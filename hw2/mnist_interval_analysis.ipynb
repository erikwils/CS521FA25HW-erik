{
  "cells": [
    {
      "cell_type": "markdown",
      "id": "bbe70a96",
      "metadata": {
        "id": "bbe70a96"
      },
      "source": [
        "## Interval Analysis"
      ]
    },
    {
      "cell_type": "code",
      "execution_count": 1,
      "id": "6bbda12e",
      "metadata": {
        "colab": {
          "base_uri": "https://localhost:8080/"
        },
        "id": "6bbda12e",
        "outputId": "751bea48-3059-4747-86f3-227386e54f40"
      },
      "outputs": [
        {
          "output_type": "execute_result",
          "data": {
            "text/plain": [
              "Sequential(\n",
              "  (0): Normalize()\n",
              "  (1): Net(\n",
              "    (fc): Linear(in_features=784, out_features=200, bias=True)\n",
              "    (fc2): Linear(in_features=200, out_features=10, bias=True)\n",
              "  )\n",
              ")"
            ]
          },
          "metadata": {},
          "execution_count": 1
        }
      ],
      "source": [
        "# !pip install tensorboardX\n",
        "\n",
        "import torch\n",
        "import torch.nn as nn\n",
        "import torch.optim as optim\n",
        "import torch.nn.functional as F\n",
        "import numpy as np\n",
        "import time\n",
        "import matplotlib.pyplot as plt\n",
        "\n",
        "from torchvision import datasets, transforms\n",
        "# from tensorboardX import SummaryWriter\n",
        "\n",
        "use_cuda = True\n",
        "device = torch.device(\"cuda\" if use_cuda else \"cpu\")\n",
        "batch_size = 64\n",
        "\n",
        "np.random.seed(42)\n",
        "torch.manual_seed(42)\n",
        "\n",
        "\n",
        "## Dataloaders\n",
        "train_dataset = datasets.MNIST('mnist_data/', train=True, download=True, transform=transforms.Compose(\n",
        "    [transforms.ToTensor()]\n",
        "))\n",
        "test_dataset = datasets.MNIST('mnist_data/', train=False, download=True, transform=transforms.Compose(\n",
        "    [transforms.ToTensor()]\n",
        "))\n",
        "\n",
        "train_loader = torch.utils.data.DataLoader(train_dataset, batch_size=batch_size, shuffle=True)\n",
        "test_loader = torch.utils.data.DataLoader(test_dataset, batch_size=batch_size, shuffle=False)\n",
        "\n",
        "## Simple NN. You can change this if you want. If you change it, mention the architectural details in your report.\n",
        "class Net(nn.Module):\n",
        "    def __init__(self):\n",
        "        super(Net, self).__init__()\n",
        "        self.fc = nn.Linear(28*28, 200)\n",
        "        self.fc2 = nn.Linear(200,10)\n",
        "\n",
        "    def forward(self, x):\n",
        "        x = x.view((-1, 28*28))\n",
        "        x = F.relu(self.fc(x))\n",
        "        x = self.fc2(x)\n",
        "        x = F.softmax(x, dim=-1) # added softmax for probabilities\n",
        "        return x\n",
        "\n",
        "class Normalize(nn.Module):\n",
        "    def forward(self, x):\n",
        "        return (x - 0.1307)/0.3081\n",
        "\n",
        "# Add the data normalization as a first \"layer\" to the network\n",
        "# this allows us to search for adverserial examples to the real image, rather than\n",
        "# to the normalized image\n",
        "model = nn.Sequential(Normalize(), Net())\n",
        "\n",
        "model = model.to(device)\n",
        "model.train()\n"
      ]
    },
    {
      "cell_type": "code",
      "execution_count": 2,
      "id": "0a6282f7",
      "metadata": {
        "id": "0a6282f7"
      },
      "outputs": [],
      "source": [
        "def train_model(model, num_epochs):\n",
        "    criterion = nn.CrossEntropyLoss()\n",
        "    optimizer = optim.SGD(model.parameters(), lr=0.001, momentum=0.9)\n",
        "\n",
        "    for epoch in range(num_epochs):\n",
        "        model.train()\n",
        "        running_loss = 0.0\n",
        "        for i, data in enumerate(train_loader, 0):\n",
        "            images, labels = data\n",
        "            images, labels = images.to(device), labels.to(device)\n",
        "\n",
        "            optimizer.zero_grad()\n",
        "            outputs = model(images)\n",
        "            loss = criterion(outputs, labels)\n",
        "            loss.backward()\n",
        "            optimizer.step()\n",
        "\n",
        "            running_loss += loss.item()\n",
        "\n",
        "        print(f'Epoch {epoch+1}/{num_epochs}, Loss: {running_loss/len(train_loader):.3f}')\n",
        "\n",
        "def test_model(model):\n",
        "    model.eval()\n",
        "    with torch.no_grad():\n",
        "        correct = 0\n",
        "        total = 0\n",
        "        for data in test_loader:\n",
        "            images, labels = data\n",
        "            images, labels = images.to(device), labels.to(device)\n",
        "            outputs = model(images)\n",
        "            _, predicted = torch.max(outputs.data, 1)\n",
        "            total += labels.size(0)\n",
        "            correct += (predicted == labels).sum().item()\n",
        "        print(f'Accuracy on images: {100 * correct / total}')"
      ]
    },
    {
      "cell_type": "code",
      "source": [
        "train_model(model, 15)\n",
        "test_model(model)"
      ],
      "metadata": {
        "colab": {
          "base_uri": "https://localhost:8080/"
        },
        "id": "EZe_WJANmYXW",
        "outputId": "35deea70-7bfd-4a69-cd21-5ea62a7abb2b"
      },
      "id": "EZe_WJANmYXW",
      "execution_count": 3,
      "outputs": [
        {
          "output_type": "stream",
          "name": "stdout",
          "text": [
            "Epoch 1/15, Loss: 2.012\n",
            "Epoch 2/15, Loss: 1.729\n",
            "Epoch 3/15, Loss: 1.627\n",
            "Epoch 4/15, Loss: 1.596\n",
            "Epoch 5/15, Loss: 1.582\n",
            "Epoch 6/15, Loss: 1.572\n",
            "Epoch 7/15, Loss: 1.566\n",
            "Epoch 8/15, Loss: 1.561\n",
            "Epoch 9/15, Loss: 1.557\n",
            "Epoch 10/15, Loss: 1.553\n",
            "Epoch 11/15, Loss: 1.550\n",
            "Epoch 12/15, Loss: 1.547\n",
            "Epoch 13/15, Loss: 1.545\n",
            "Epoch 14/15, Loss: 1.542\n",
            "Epoch 15/15, Loss: 1.540\n",
            "Accuracy on images: 93.43\n"
          ]
        }
      ]
    },
    {
      "cell_type": "markdown",
      "id": "c7c23f92",
      "metadata": {
        "id": "c7c23f92"
      },
      "source": [
        "### Write the interval analysis for the simple model"
      ]
    },
    {
      "cell_type": "code",
      "execution_count": 4,
      "id": "d97f7f25",
      "metadata": {
        "id": "d97f7f25"
      },
      "outputs": [],
      "source": [
        "## TODO: Write the interval analysis for the simple model\n",
        "## you can use https://github.com/Zinoex/bound_propagation"
      ]
    },
    {
      "cell_type": "code",
      "source": [
        "!pip install bound_propagation"
      ],
      "metadata": {
        "colab": {
          "base_uri": "https://localhost:8080/"
        },
        "id": "Lh32-jMvlfgZ",
        "outputId": "6c8a3bc8-5aae-4128-d515-05b5002c34c3"
      },
      "id": "Lh32-jMvlfgZ",
      "execution_count": 5,
      "outputs": [
        {
          "output_type": "stream",
          "name": "stdout",
          "text": [
            "Requirement already satisfied: bound_propagation in /usr/local/lib/python3.12/dist-packages (0.4.6)\n",
            "Requirement already satisfied: torch in /usr/local/lib/python3.12/dist-packages (from bound_propagation) (2.8.0+cu126)\n",
            "Requirement already satisfied: numpy in /usr/local/lib/python3.12/dist-packages (from bound_propagation) (2.0.2)\n",
            "Requirement already satisfied: filelock in /usr/local/lib/python3.12/dist-packages (from torch->bound_propagation) (3.19.1)\n",
            "Requirement already satisfied: typing-extensions>=4.10.0 in /usr/local/lib/python3.12/dist-packages (from torch->bound_propagation) (4.15.0)\n",
            "Requirement already satisfied: setuptools in /usr/local/lib/python3.12/dist-packages (from torch->bound_propagation) (75.2.0)\n",
            "Requirement already satisfied: sympy>=1.13.3 in /usr/local/lib/python3.12/dist-packages (from torch->bound_propagation) (1.13.3)\n",
            "Requirement already satisfied: networkx in /usr/local/lib/python3.12/dist-packages (from torch->bound_propagation) (3.5)\n",
            "Requirement already satisfied: jinja2 in /usr/local/lib/python3.12/dist-packages (from torch->bound_propagation) (3.1.6)\n",
            "Requirement already satisfied: fsspec in /usr/local/lib/python3.12/dist-packages (from torch->bound_propagation) (2025.3.0)\n",
            "Requirement already satisfied: nvidia-cuda-nvrtc-cu12==12.6.77 in /usr/local/lib/python3.12/dist-packages (from torch->bound_propagation) (12.6.77)\n",
            "Requirement already satisfied: nvidia-cuda-runtime-cu12==12.6.77 in /usr/local/lib/python3.12/dist-packages (from torch->bound_propagation) (12.6.77)\n",
            "Requirement already satisfied: nvidia-cuda-cupti-cu12==12.6.80 in /usr/local/lib/python3.12/dist-packages (from torch->bound_propagation) (12.6.80)\n",
            "Requirement already satisfied: nvidia-cudnn-cu12==9.10.2.21 in /usr/local/lib/python3.12/dist-packages (from torch->bound_propagation) (9.10.2.21)\n",
            "Requirement already satisfied: nvidia-cublas-cu12==12.6.4.1 in /usr/local/lib/python3.12/dist-packages (from torch->bound_propagation) (12.6.4.1)\n",
            "Requirement already satisfied: nvidia-cufft-cu12==11.3.0.4 in /usr/local/lib/python3.12/dist-packages (from torch->bound_propagation) (11.3.0.4)\n",
            "Requirement already satisfied: nvidia-curand-cu12==10.3.7.77 in /usr/local/lib/python3.12/dist-packages (from torch->bound_propagation) (10.3.7.77)\n",
            "Requirement already satisfied: nvidia-cusolver-cu12==11.7.1.2 in /usr/local/lib/python3.12/dist-packages (from torch->bound_propagation) (11.7.1.2)\n",
            "Requirement already satisfied: nvidia-cusparse-cu12==12.5.4.2 in /usr/local/lib/python3.12/dist-packages (from torch->bound_propagation) (12.5.4.2)\n",
            "Requirement already satisfied: nvidia-cusparselt-cu12==0.7.1 in /usr/local/lib/python3.12/dist-packages (from torch->bound_propagation) (0.7.1)\n",
            "Requirement already satisfied: nvidia-nccl-cu12==2.27.3 in /usr/local/lib/python3.12/dist-packages (from torch->bound_propagation) (2.27.3)\n",
            "Requirement already satisfied: nvidia-nvtx-cu12==12.6.77 in /usr/local/lib/python3.12/dist-packages (from torch->bound_propagation) (12.6.77)\n",
            "Requirement already satisfied: nvidia-nvjitlink-cu12==12.6.85 in /usr/local/lib/python3.12/dist-packages (from torch->bound_propagation) (12.6.85)\n",
            "Requirement already satisfied: nvidia-cufile-cu12==1.11.1.6 in /usr/local/lib/python3.12/dist-packages (from torch->bound_propagation) (1.11.1.6)\n",
            "Requirement already satisfied: triton==3.4.0 in /usr/local/lib/python3.12/dist-packages (from torch->bound_propagation) (3.4.0)\n",
            "Requirement already satisfied: mpmath<1.4,>=1.1.0 in /usr/local/lib/python3.12/dist-packages (from sympy>=1.13.3->torch->bound_propagation) (1.3.0)\n",
            "Requirement already satisfied: MarkupSafe>=2.0 in /usr/local/lib/python3.12/dist-packages (from jinja2->torch->bound_propagation) (3.0.3)\n"
          ]
        }
      ]
    },
    {
      "cell_type": "code",
      "source": [
        "import torch\n",
        "from torch import nn\n",
        "from bound_propagation import BoundModule, IntervalBounds, BoundModelFactory\n",
        "\n",
        "class BoundNormalize(BoundModule):\n",
        "    def __init__(self, model, factory, **kwargs):\n",
        "        super().__init__(model, factory, **kwargs)\n",
        "        self.mean = torch.as_tensor(getattr(model, \"mean\", 0.1307))\n",
        "        self.std  = torch.as_tensor(getattr(model, \"std\", 0.3081))\n",
        "\n",
        "    def propagate_size(self, in_size):\n",
        "        self._in_size = in_size\n",
        "        return in_size\n",
        "\n",
        "    @property\n",
        "    def need_relaxation(self):\n",
        "        return False\n",
        "\n",
        "    def clear_relaxation(self):\n",
        "        pass\n",
        "\n",
        "    def _reshape_params(self, x):\n",
        "        mean = self.mean.to(x.device, x.dtype)\n",
        "        std  = self.std.to(x.device, x.dtype)\n",
        "        if mean.ndim == 1 and x.ndim >= 2 and mean.numel() == x.size(1):\n",
        "            view = [1, x.size(1)] + [1] * (x.ndim - 2)\n",
        "            mean = mean.view(*view)\n",
        "            std  = std.view(*view)\n",
        "        return mean, std\n",
        "\n",
        "    def ibp_forward(self, bounds, save_relaxation=False, save_input_bounds=False):\n",
        "        lo, hi = bounds.lower, bounds.upper\n",
        "        mean, std = self._reshape_params(lo)\n",
        "        scale = 1.0 / std\n",
        "        bias  = -mean / std\n",
        "        lo_ = torch.minimum(scale * lo, scale * hi) + bias\n",
        "        hi_ = torch.maximum(scale * lo, scale * hi) + bias\n",
        "        return IntervalBounds(bounds.region, lo_, hi_)\n",
        "\n",
        "    def crown_backward(self, *args, **kwargs):\n",
        "        raise NotImplementedError(\"not impl\")\n",
        "\n",
        "class BoundNet(BoundModule):\n",
        "    def __init__(self, model, factory, **kwargs):\n",
        "        super().__init__(model, factory, **kwargs)\n",
        "        self.fc  = model.fc\n",
        "        self.fc2 = model.fc2\n",
        "\n",
        "    def propagate_size(self, in_size):\n",
        "        return (self.fc2.out_features,)\n",
        "\n",
        "    @property\n",
        "    def need_relaxation(self):\n",
        "        return False\n",
        "\n",
        "    def clear_relaxation(self):\n",
        "        pass\n",
        "\n",
        "    @staticmethod\n",
        "    def _linear_ibp(l, u, weight, bias):\n",
        "        W = weight\n",
        "        W_pos = torch.clamp(W, min=0)\n",
        "        W_neg = torch.clamp(W, max=0)\n",
        "        lower = l.matmul(W_pos.t()) + u.matmul(W_neg.t())\n",
        "        upper = u.matmul(W_pos.t()) + l.matmul(W_neg.t())\n",
        "        if bias is not None:\n",
        "            lower = lower + bias\n",
        "            upper = upper + bias\n",
        "        return lower, upper\n",
        "\n",
        "    def ibp_forward(self, bounds, **_):\n",
        "        l, u = bounds.lower, bounds.upper\n",
        "        B = l.shape[0]\n",
        "        l = l.view(B, -1)\n",
        "        u = u.view(B, -1)\n",
        "\n",
        "        l, u = self._linear_ibp(l, u, self.fc.weight, self.fc.bias)\n",
        "\n",
        "        l = torch.clamp(l, min=0.0)\n",
        "        u = torch.clamp(u, min=0.0)\n",
        "\n",
        "        l, u = self._linear_ibp(l, u, self.fc2.weight, self.fc2.bias)\n",
        "\n",
        "        return IntervalBounds(bounds.region, l, u)\n",
        "\n",
        "    def crown_backward(self):\n",
        "        raise NotImplementedError(\"not impl\")\n"
      ],
      "metadata": {
        "id": "5Nx69Cyh2hdo"
      },
      "id": "5Nx69Cyh2hdo",
      "execution_count": 19,
      "outputs": []
    },
    {
      "cell_type": "code",
      "source": [
        "factory = BoundModelFactory()\n",
        "factory.register(Normalize, BoundNormalize)\n",
        "factory.register(Net, BoundNet)\n",
        "bmodel = factory.build(model).eval().to(device)\n"
      ],
      "metadata": {
        "id": "CDS8PC6Ka8Lc"
      },
      "id": "CDS8PC6Ka8Lc",
      "execution_count": 20,
      "outputs": []
    },
    {
      "cell_type": "code",
      "source": [
        "from bound_propagation import HyperRectangle\n",
        "import pandas as pd\n",
        "\n",
        "def make_region(images, eps):\n",
        "    lo = (images - eps).clamp(0.0, 1.0)\n",
        "    hi = (images + eps).clamp(0.0, 1.0)\n",
        "    return HyperRectangle(lo, hi)\n",
        "\n",
        "@torch.inference_mode()\n",
        "def evaluate_verified_accuracy_ibp(eps_list):\n",
        "    device = next(model.parameters()).device\n",
        "    model.eval()\n",
        "    bmodel.eval()\n",
        "\n",
        "    total = correct = 0\n",
        "    for images, labels in test_loader:\n",
        "        images, labels = images.to(device), labels.to(device)\n",
        "        probs = model(images)\n",
        "        correct += (probs.argmax(1) == labels).sum().item()\n",
        "        total += labels.numel()\n",
        "    baseline_acc = 100.0 * correct / total\n",
        "\n",
        "    results = []\n",
        "    for eps in eps_list:\n",
        "        verified = total = 0\n",
        "        for images, labels in test_loader:\n",
        "            images, labels = images.to(device), labels.to(device)\n",
        "            region = make_region(images, float(eps))\n",
        "            out = bmodel.ibp(region)\n",
        "            lower, upper = out.lower, out.upper\n",
        "\n",
        "            other_upper = upper.clone()\n",
        "            other_upper.scatter_(1, labels.view(-1,1), float(\"-inf\"))\n",
        "            true_lower = lower.gather(1, labels.view(-1,1)).squeeze(1)\n",
        "\n",
        "            verified += (true_lower > other_upper.max(dim=1).values).sum().item()\n",
        "            total += labels.numel()\n",
        "\n",
        "        results.append({\"epsilon\": float(eps), \"verified_accuracy(%)\": 100.0 * verified / total})\n",
        "\n",
        "    return baseline_acc, pd.DataFrame(results)\n"
      ],
      "metadata": {
        "id": "Fcald_aUbAai"
      },
      "id": "Fcald_aUbAai",
      "execution_count": 21,
      "outputs": []
    },
    {
      "cell_type": "code",
      "source": [
        "epsilons = torch.linspace(0.01, 0.10, 10).tolist()\n",
        "baseline_acc, df = evaluate_verified_accuracy_ibp(epsilons)\n",
        "print(f\"Clean (unperturbed) test accuracy: {baseline_acc:.2f}%\")\n",
        "print(df.to_string(index=False, formatters={'epsilon': '{:.2f}'.format,\n",
        "                                            'verified_accuracy(%)': '{:.2f}'.format}))\n"
      ],
      "metadata": {
        "colab": {
          "base_uri": "https://localhost:8080/"
        },
        "id": "dgrQGI7EbEnN",
        "outputId": "fae52748-c844-4355-cf82-de6e9110fb5b"
      },
      "id": "dgrQGI7EbEnN",
      "execution_count": 22,
      "outputs": [
        {
          "output_type": "stream",
          "name": "stdout",
          "text": [
            "Clean (unperturbed) test accuracy: 93.43%\n",
            "epsilon verified_accuracy(%)\n",
            "   0.01                49.59\n",
            "   0.02                 5.30\n",
            "   0.03                 0.20\n",
            "   0.04                 0.00\n",
            "   0.05                 0.00\n",
            "   0.06                 0.00\n",
            "   0.07                 0.00\n",
            "   0.08                 0.00\n",
            "   0.09                 0.00\n",
            "   0.10                 0.00\n"
          ]
        }
      ]
    }
  ],
  "metadata": {
    "kernelspec": {
      "display_name": "Python 3",
      "name": "python3"
    },
    "language_info": {
      "codemirror_mode": {
        "name": "ipython",
        "version": 3
      },
      "file_extension": ".py",
      "mimetype": "text/x-python",
      "name": "python",
      "nbconvert_exporter": "python",
      "pygments_lexer": "ipython3",
      "version": "3.10.18"
    },
    "colab": {
      "provenance": [],
      "gpuType": "T4"
    },
    "accelerator": "GPU"
  },
  "nbformat": 4,
  "nbformat_minor": 5
}